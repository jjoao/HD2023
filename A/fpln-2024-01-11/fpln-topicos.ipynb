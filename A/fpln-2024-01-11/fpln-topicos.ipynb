{
 "cells": [
  {
   "cell_type": "markdown",
   "id": "1e545158",
   "metadata": {},
   "source": [
    "# Topicos\n",
    "### introdução a Python\n",
    "### J.João, José Carlos Ramalho e Luís Cunha"
   ]
  },
  {
   "cell_type": "markdown",
   "metadata": {},
   "source": [
    "#### Strings\n",
    "\n",
    "    a = \"abc123 \\n456\"   '...' '''....''' \"\"\"....\"\"\"\n",
    "    a.split()  a.split(\",\") a.splitlines() \n",
    "    a.upper() a.title()\n",
    "    a[3] a[-1]\n",
    "    a[3:5] a[3:] a[3:-1] a[::-1]\n",
    "    len(a)\n",
    "\n",
    "    if \"ab\" in a:\n",
    "    \n",
    "    a.replace(\"ab\",\"123\")\n",
    "\n",
    "    f\"uma string com expressões 3 + 3 = {3+3}\"\n",
    "    \"aaa\" + \"bbb\"\n",
    "    \"aaa,\" * 3\n",
    "    str(55)        # \"55\"\n",
    "        \"abc\" + \"zxy\"\n",
    "\n",
    "\n"
   ]
  },
  {
   "cell_type": "markdown",
   "metadata": {},
   "source": [
    "#### Funções\n",
    "\n",
    "    def f(p1, p2):\n",
    "        v = p1 + p2\n",
    "        return v\n",
    "\n"
   ]
  },
  {
   "cell_type": "markdown",
   "metadata": {},
   "source": [
    "#### Listas,\n",
    "\n",
    "    a = [ 1, 2, 3]\n",
    "    b = [ \"aaa\", 3, 4]\n",
    "    c = [ 3, [ 4, 5], 6 ]\n",
    "    d = []\n",
    "    a[2]  ##3\n",
    "    b[1:]  ## [3,4]\n",
    "    c[1]   ## [4,5]\n",
    "    c[1][1] ## 5\n",
    "    len(d)  ## 0\n",
    "\n",
    "    for ele in c:\n",
    "        print(ele)\n",
    "    for indice, ele in enumerate(c):\n",
    "        print(indice,ele)\n",
    "\n",
    "    a.append(77)   ## a = [1,2,3,77]\n",
    "    a+b            ##\n",
    "    a+d \n",
    "    g = list( )\n",
    "    range(4)   ## [0,1,2,3]\n",
    "    g = list(range(10,14)) ## [10,11,12,13]\n",
    "    for i in range(21):\n",
    "        print(i)\n",
    "\n"
   ]
  },
  {
   "cell_type": "markdown",
   "metadata": {},
   "source": [
    "#### dicionários\n",
    "  \n",
    "    d1 = {}\n",
    "    d2 = {1: 2, \"cão\": \"cadela\", \"domésticos\": [\"cão\", \"gato\"]}\n",
    "    d2[\"cão\"]             ## \"cadela\"\n",
    "    d2[\"domésticos\"][1]   ## \"gato\"\n",
    "    d2[\"elefante\"]        ## erro\n",
    "    d2[\"cavalo\"] = \"égua\"\n",
    "    d2.get(\"cão\",\"???\")   ## \"cadela\"\n",
    "    d2.get(\"elefante\",\"???\")   ## \"???\"\n",
    "    \n",
    "    if 6 in d2:           ## falso\n",
    "\n",
    "    for key in d2:\n",
    "        print(key)\n",
    "\n",
    "    for key, val in d2.items():\n",
    "        print(key,val)\n",
    "    d2.keys()    ## [1 , \"cão\", \"domésticos\", \"cavalo\"]\n",
    "    d2.values()\n",
    "    d2.items()   ## [ (1,2), (\"cão\", \"cadela\"),...]\n",
    "\n",
    "    dict(...)\n",
    "\n",
    "#### tuplos\n",
    "\n",
    "    t1 = (23, 24, 45)\n",
    "    t1[2]\n",
    "\n"
   ]
  },
  {
   "cell_type": "markdown",
   "metadata": {},
   "source": [
    "#### Listas em compreenção\n"
   ]
  },
  {
   "cell_type": "code",
   "execution_count": null,
   "metadata": {},
   "outputs": [],
   "source": [
    "listaA = [4,9,7,2]\n",
    "print([e+1 for e in listaA])\n",
    "print([e for e in listaA if e > 5])   ### if e[0] == \"G\"\n",
    "print([e for e in listaA])\n",
    "\n",
    "listaB = [ e for e in listaA if e % 2 != 0]\n",
    "print(listaB)"
   ]
  },
  {
   "cell_type": "markdown",
   "metadata": {},
   "source": [
    "#### tudo ao monte"
   ]
  },
  {
   "cell_type": "code",
   "execution_count": 19,
   "metadata": {},
   "outputs": [
    {
     "name": "stdout",
     "output_type": "stream",
     "text": [
      "Manel\n",
      "O senhor Francisco faleceu com a vetusta idade de 88\n",
      "O senhor Manel faleceu com a vetusta idade de 90\n"
     ]
    }
   ],
   "source": [
    "testamentos = [ \n",
    "    { \"falecido\": \"Francisco\", \"idade\": 88, \"parentes\": [\"Rui\", \"Ana\"]},\n",
    "    { \"falecido\": \"Manel\",     \"idade\": 90, \"parentes\": [\"Eva\",\"Serafim\"]}\n",
    " ]\n",
    "print(testamentos[1][\"falecido\"])          ## Manel\n",
    "\n",
    "for t in testamentos:\n",
    "    print(f\"\"\"O senhor {t[\"falecido\"]} faleceu com a vetusta idade de {t[\"idade\"]}\"\"\")"
   ]
  },
  {
   "cell_type": "markdown",
   "metadata": {},
   "source": [
    "#### ler e escrever ficheiros\n",
    "\n",
    "    txt = open(f).read()\n",
    "\n",
    "    with open(\"file\") as f:\n",
    "        txt = f.read()\n",
    "\n",
    "    with open(\"file\") as f:\n",
    "        for line in f:\n",
    "            ....processar line\n",
    "\n",
    "    with open(\"file\",\"w\") as f:\n",
    "        print(\"....\", file=f)\n",
    "\n",
    "\n",
    "\n",
    "#### expressões regulares\n",
    "\n",
    "    import re\n",
    "    for x in re.findall(r'\\w+', txt):\n",
    "        ...\n",
    "    novotxt = re.sub(r'([.!?])', r'\\1\\n\\n', txt)\n",
    "    re.search(r'escrev\\w+', txt)\n",
    "    lista = re.split(r\"@\", txt)\n",
    "\n"
   ]
  },
  {
   "cell_type": "markdown",
   "metadata": {},
   "source": [
    "#### alguns módulos\n",
    "\n",
    "- re \n",
    "- spacy\n",
    "- json\n",
    "- yaml\n",
    "- jjcli\n",
    "\n",
    "- bs4 beautifulsoup4\n",
    "- requests\n",
    "- docx xdxf\n",
    "- mathplotlib\n",
    "\n",
    "\n"
   ]
  },
  {
   "cell_type": "markdown",
   "metadata": {},
   "source": [
    "# Exercícios sobre listas\n",
    "\n",
    "### Sinopsis:\n",
    "\n",
    "Algoritmos sobre listas."
   ]
  },
  {
   "cell_type": "markdown",
   "id": "e38d18c4-d7d7-4fea-9bc6-e3f3c903386b",
   "metadata": {},
   "source": [
    "### Exercício 1: Criar uma lista \n",
    "- Defina uma função que recebe um argumento **N** e devolve uma  lista com os números ímpares até **N**;\n",
    "- Crie um programa que chama a função e imprime a lista resultante."
   ]
  },
  {
   "cell_type": "code",
   "execution_count": 7,
   "id": "6e66f2f1",
   "metadata": {},
   "outputs": [
    {
     "name": "stdout",
     "output_type": "stream",
     "text": [
      "[1, 3, 5, 7, 9, 11, 13]\n"
     ]
    }
   ],
   "source": [
    "def criaLista(N):\n",
    "    lista = []\n",
    "    x = 0\n",
    "    while x <= N:\n",
    "        if x % 2 != 0:\n",
    "            lista.append(x)\n",
    "        x = x + 1\n",
    "    return lista\n",
    "\n",
    "N = 11\n",
    "#print(criaLista(N))\n",
    "\n",
    "\n",
    "def criaLista2(N):\n",
    "    lista = []\n",
    "    for n in range(0,N+1):\n",
    "        if n % 2 != 0:\n",
    "            lista.append(n)\n",
    "    return lista\n",
    "\n",
    "\n",
    "def criaLista3(N):\n",
    "    lista = []\n",
    "    x = 1\n",
    "    while x <= N:\n",
    "        lista.append(x)\n",
    "        x = x + 2\n",
    "    return lista\n",
    "\n",
    "#print(criaLista3(11))\n",
    "\n",
    "def criaLista4(N):\n",
    "    return [ e for e in range(0, N + 1) if e % 2 != 0]\n",
    "\n",
    "print(criaLista4(11))"
   ]
  },
  {
   "cell_type": "code",
   "execution_count": 19,
   "id": "af973146-3bb4-4fa8-ba6c-b887b79ccff8",
   "metadata": {},
   "outputs": [
    {
     "data": {
      "text/plain": [
       "[1, 3, 5, 7, 9, 11, 13, 15, 17, 19]"
      ]
     },
     "execution_count": 19,
     "metadata": {},
     "output_type": "execute_result"
    }
   ],
   "source": [
    "# Solução do exercício 1\n",
    "def criaLista(N):\n",
    "    lista = []\n",
    "    for n in range(0,N+1):\n",
    "        if n % 2 == 1:\n",
    "            lista.append(n)\n",
    "    return lista\n",
    "\n",
    "\n",
    "def criaLista2(N):\n",
    "    lista = []\n",
    "    x = 0\n",
    "    while x <= N:\n",
    "        if x % 2 == 1:\n",
    "            lista.append(x)\n",
    "        x = x + 1\n",
    "    return lista\n",
    "\n",
    "def criaLista3(N):\n",
    "    lista = []\n",
    "    x = 1\n",
    "    while x <= N:\n",
    "        lista.append(x)\n",
    "        x = x + 2\n",
    "    return lista\n",
    "\n",
    "criaLista3(20)\n",
    "\n",
    "def criaLista4(N):\n",
    "    return [x for x in range(1,N+1) if x % 2 == 1]\n",
    "\n",
    "def criaLista5(N):\n",
    "    return [x for x in range(1,N+1,2)]\n",
    "\n",
    "criaLista5(20)"
   ]
  },
  {
   "cell_type": "markdown",
   "id": "bdcbffb0",
   "metadata": {},
   "source": [
    "### Exercício 2: Ler uma lista de N números\n",
    "- Defina uma função que recebe um argumento **N** e lê **N** números armazenando-os numa lista que é devolvida como resultado;\n",
    "- Crie um programa que chama a função e imprime a lista resultante."
   ]
  },
  {
   "cell_type": "code",
   "execution_count": 44,
   "id": "af973146-3bb4-4fa8-ba6c-b887b79ccff8",
   "metadata": {},
   "outputs": [
    {
     "name": "stdout",
     "output_type": "stream",
     "text": [
      "[6, 9, 100]\n"
     ]
    }
   ],
   "source": [
    "# Solução do exercício 2\n",
    "def leLista(N):\n",
    "    lista = []\n",
    "    while N > 0:\n",
    "        x = int(input(\"Insira um número\"))\n",
    "        lista.append(x)\n",
    "        N = N - 1\n",
    "    return lista\n",
    "\n",
    "print(leLista(3))"
   ]
  },
  {
   "cell_type": "markdown",
   "id": "bdcbffb0",
   "metadata": {},
   "source": [
    "### Exercício 3: Somar uma lista de números\n",
    "- Defina uma função que recebe uma lista como argumento e devolve a soma dos números nessa lista."
   ]
  },
  {
   "cell_type": "code",
   "execution_count": 45,
   "id": "ac8a34fd",
   "metadata": {},
   "outputs": [
    {
     "name": "stdout",
     "output_type": "stream",
     "text": [
      "15\n"
     ]
    }
   ],
   "source": [
    "def somaLista(lista):\n",
    "    soma = 0\n",
    "    for e in lista:\n",
    "        soma = soma + e\n",
    "    return soma\n",
    "\n",
    "print(somaLista([1,6,5,3]))"
   ]
  },
  {
   "cell_type": "code",
   "execution_count": 13,
   "metadata": {},
   "outputs": [
    {
     "name": "stdout",
     "output_type": "stream",
     "text": [
      "até agora 0 . Juntando 1...\n",
      "até agora 1 . Juntando 6...\n",
      "até agora 7 . Juntando 7...\n",
      "até agora 14 . Juntando 43...\n",
      "No fim: 57\n",
      "até agora 0 . Juntando 5...\n",
      "até agora 5 . Juntando 5...\n",
      "até agora 10 . Juntando 4...\n",
      "até agora 14 . Juntando 6...\n",
      "No fim: 20\n",
      "77\n"
     ]
    }
   ],
   "source": [
    "\n",
    "listaA = [1,6,7,43]\n",
    "listaB = [5,5,4,6]\n",
    "\n",
    "def somaLista(lista):\n",
    "    soma = 0\n",
    "    for e in lista:\n",
    "        print(\"até agora\", soma, f\". Juntando {e}...\")\n",
    "        soma = soma + e\n",
    "    print(f\"No fim: {soma}\")\n",
    "    return soma\n",
    "\n",
    "k = somaLista(listaA) + somaLista(listaB) \n",
    "print(k)"
   ]
  },
  {
   "cell_type": "markdown",
   "id": "64ad6f7b",
   "metadata": {},
   "source": [
    "# Solução do exercício 3\n",
    "# [1,6,4,9] ---> 20\n",
    "\n",
    "def somaLista(lista):\n",
    "    soma = 0\n",
    "    for e in lista:\n",
    "        soma = soma + e\n",
    "    return soma\n"
   ]
  },
  {
   "cell_type": "markdown",
   "id": "65565661",
   "metadata": {},
   "source": [
    "### Exercício 4: Quadrado dos elementos de uma lista\n",
    "\n",
    "- Defina uma função que recebe uma lista como argumento e devolve uma nova lista com os quadrados de cada número da lista inicial. \n",
    "\n",
    "#### Input (exemplo)\n",
    "in: [1, 2, 3, 4]\n",
    "#### Output (exemplo)\n",
    "out: [1, 4, 9, 16]"
   ]
  },
  {
   "cell_type": "code",
   "execution_count": 29,
   "id": "7e3e2775",
   "metadata": {},
   "outputs": [
    {
     "data": {
      "text/plain": [
       "[1, 4, 9]"
      ]
     },
     "execution_count": 29,
     "metadata": {},
     "output_type": "execute_result"
    }
   ],
   "source": [
    "# Solução do exercício 4\n",
    "def quadrados(lista):\n",
    "    lista1 = []\n",
    "    for n in lista:\n",
    "        lista1.append (n*n)\n",
    "    return lista1\n",
    "quadrados ([1,2,3])"
   ]
  },
  {
   "cell_type": "markdown",
   "id": "bdcbffb0",
   "metadata": {},
   "source": [
    "### Exercício 5: Calcular a média duma lista de números\n",
    "- Defina uma função que recebe uma lista como argumento e devolve a média dos números nessa lista."
   ]
  },
  {
   "cell_type": "code",
   "execution_count": 49,
   "id": "af7df0d3",
   "metadata": {},
   "outputs": [
    {
     "name": "stdout",
     "output_type": "stream",
     "text": [
      "0\n"
     ]
    }
   ],
   "source": [
    "def mediaLista(lista):\n",
    "    tamanho = len(lista)\n",
    "    if tamanho == 0:\n",
    "        return 0\n",
    "    soma = somaLista(lista)\n",
    "    return soma / tamanho\n",
    "\n",
    "print(mediaLista([]))"
   ]
  },
  {
   "cell_type": "code",
   "execution_count": 31,
   "id": "a6c32b2e",
   "metadata": {},
   "outputs": [
    {
     "name": "stdout",
     "output_type": "stream",
     "text": [
      "2.0\n"
     ]
    }
   ],
   "source": [
    "# Solução do exercício 5\n",
    "def mediaLista(lista):\n",
    "    soma = 0\n",
    "    for e in lista:\n",
    "        soma = soma + e\n",
    "    media = soma / len(lista)\n",
    "    return media\n",
    "\n",
    "print(mediaLista([1,2,3]))"
   ]
  },
  {
   "cell_type": "markdown",
   "id": "f41ef69b",
   "metadata": {},
   "source": [
    "### Exercício 6: Maior de uma sequência\n",
    "- Defina uma função que recebe uma lista como argumento e devolve o maior número nessa lista."
   ]
  },
  {
   "cell_type": "code",
   "execution_count": null,
   "id": "86f5b24d",
   "metadata": {},
   "outputs": [],
   "source": [
    "# Solução do exercício 6\n",
    "def maiorLista(lista):\n",
    "    \n",
    "    return"
   ]
  },
  {
   "cell_type": "markdown",
   "id": "d11cdd11",
   "metadata": {},
   "source": [
    "### Exercício 6: Menor de uma sequência\n",
    "- Defina uma função que recebe uma lista como argumento e devolve o menor número nessa lista."
   ]
  },
  {
   "cell_type": "code",
   "execution_count": null,
   "id": "7549c7d7",
   "metadata": {},
   "outputs": [],
   "source": [
    "# Solução do exercício 6\n",
    "def menorLista(lista):\n",
    "    \n",
    "    return"
   ]
  },
  {
   "cell_type": "markdown",
   "id": "bb597e57",
   "metadata": {},
   "source": [
    "### Exercício 7: Contar Ocorrências\n",
    "- Defina uma função que recebe uma lista e um elemento como argumento, e que devolve o número de ocurrências desse elemento na lista."
   ]
  },
  {
   "cell_type": "code",
   "execution_count": null,
   "id": "e426e923",
   "metadata": {},
   "outputs": [],
   "source": [
    "# Solução do exercício 7\n",
    "def occor(lista, elem):\n",
    "    \n",
    "    return"
   ]
  },
  {
   "cell_type": "markdown",
   "id": "775a02a5",
   "metadata": {},
   "source": [
    "### Exercício 8: Contar strings\n",
    "- Defina uma função que recebe uma lista de strings como argumento e devolve número de strings nessa lista que:\n",
    "    1. Têm tamanho maior ou igual a 3;\n",
    "    2. Começam e terminam pelo mesmo caracter.\n",
    "#### Input (exemplo)\n",
    "in: ['abc', 'xyz', 'ab', '1221']\n",
    "#### Output (exemplo)\n",
    "out1: 3\n",
    "\n",
    "out2: 1"
   ]
  },
  {
   "cell_type": "code",
   "execution_count": null,
   "id": "7390bc6a",
   "metadata": {},
   "outputs": [],
   "source": [
    "# Solução do exercício 8\n",
    "def contarStringsLista(lista):\n",
    "    \n",
    "    return"
   ]
  },
  {
   "cell_type": "markdown",
   "id": "f9ba457b",
   "metadata": {},
   "source": [
    "### Exercício 9: Remover duplicados\n",
    "- Defina uma função que recebe uma lista como argumento e devolve uma nova lista eliminando elementos repetidos."
   ]
  },
  {
   "cell_type": "code",
   "execution_count": null,
   "id": "0abc61e5",
   "metadata": {},
   "outputs": [],
   "source": [
    "# Solução do exercício 9\n",
    "def remDupLista(lista):\n",
    "    \n",
    "    return"
   ]
  },
  {
   "cell_type": "markdown",
   "id": "9bc471d8",
   "metadata": {},
   "source": [
    "### Exercício 10: eVazia?\n",
    "- Defina uma função que recebe uma lista como argumento e devolve um resultado booleano verdadeiro se a lista estiver vazia."
   ]
  },
  {
   "cell_type": "code",
   "execution_count": null,
   "id": "18cf2aff",
   "metadata": {},
   "outputs": [],
   "source": [
    "# Solução do exercício 10\n",
    "def eVazia(lista):\n",
    "    \n",
    "    return"
   ]
  },
  {
   "cell_type": "markdown",
   "id": "72b8fac0",
   "metadata": {},
   "source": [
    "### Exercício 11: Copiar lista\n",
    "- Defina uma função que recebe uma lista como argumento e devolve uma nova lista correspondente a uma cópia da lista recebida."
   ]
  },
  {
   "cell_type": "code",
   "execution_count": null,
   "id": "a61ca503",
   "metadata": {},
   "outputs": [],
   "source": [
    "# Solução do exercício 11\n",
    "def copiarLista(lista):\n",
    "    \n",
    "    return"
   ]
  },
  {
   "cell_type": "markdown",
   "id": "d170cc50",
   "metadata": {},
   "source": [
    "### Exercício 12: Strings maiores que n carateres\n",
    "- Defina uma função que recebe dois argumentos, uma lista de strings e um número inteiro, e que devolve uma nova lista de strings em que estas têm um comprimento igual ou superior ao valor inteiro passado como argumento."
   ]
  },
  {
   "cell_type": "code",
   "execution_count": null,
   "id": "1944ef1d",
   "metadata": {},
   "outputs": [],
   "source": [
    "# Solução do exercício 12\n",
    "def stringsMaioresLista(lista, n):\n",
    "    \n",
    "    return"
   ]
  },
  {
   "cell_type": "markdown",
   "id": "af46fe06",
   "metadata": {},
   "source": [
    "### Exercício 13: Comum?\n",
    "- Defina uma função que recebe duas listas como argumento, e que devolve o valor booleano verdadeiro se as listas tiverem pelo menos um elemento comum."
   ]
  },
  {
   "cell_type": "code",
   "execution_count": null,
   "id": "7a2f4413",
   "metadata": {},
   "outputs": [],
   "source": [
    "# Solução do exercício 13\n",
    "def haComuns(listaA, listaB):\n",
    "    \n",
    "    return"
   ]
  },
  {
   "cell_type": "markdown",
   "id": "061bae0e",
   "metadata": {},
   "source": [
    "### Exercício 14: Comuns\n",
    "- Defina uma função que recebe duas listas como argumento, e que devolve uma nova lista com os valores comuns às duas listas."
   ]
  },
  {
   "cell_type": "code",
   "execution_count": 15,
   "id": "02db9458",
   "metadata": {},
   "outputs": [],
   "source": [
    "# Solução do exercício 14\n",
    "def comuns(listaA, listaB):\n",
    "    \n",
    "    return"
   ]
  },
  {
   "cell_type": "markdown",
   "id": "af4f2b11",
   "metadata": {},
   "source": [
    "### Exercício 15: Únicos\n",
    "- Defina uma função que recebe duas listas como argumento, e que devolve uma nova lista com os valores que apenas existem numa delas."
   ]
  },
  {
   "cell_type": "code",
   "execution_count": null,
   "id": "01a0d35e",
   "metadata": {},
   "outputs": [],
   "source": [
    "# Solução do exercício 15\n",
    "def unicos(listaA, listaB):\n",
    "    \n",
    "    return"
   ]
  },
  {
   "cell_type": "markdown",
   "id": "2acbab46",
   "metadata": {},
   "source": [
    "### Exercício 16: indiceDe\n",
    "- Defina uma função que recebe uma lista e um elemento como argumento, e que devolve o índice desse elemento na lista. No caso do elemento não existir na lista deverá devolver o valor -1."
   ]
  },
  {
   "cell_type": "code",
   "execution_count": null,
   "id": "3891e6c3",
   "metadata": {},
   "outputs": [],
   "source": [
    "# Solução do exercício 16\n",
    "def unicos(lista, elem):\n",
    "    \n",
    "    return"
   ]
  },
  {
   "cell_type": "markdown",
   "id": "1d9c2fbc",
   "metadata": {},
   "source": [
    "### Exercício 17: estaOrdenada\n",
    "- Defina uma função que recebe uma lista de números e verifica se a mesma está ordenada por ordem crescente."
   ]
  },
  {
   "cell_type": "code",
   "execution_count": null,
   "id": "fb44546a",
   "metadata": {},
   "outputs": [],
   "source": [
    "# Solução do exercício 17\n",
    "def estaOrdenada(lista):\n",
    "    \n",
    "    return"
   ]
  },
  {
   "cell_type": "markdown",
   "id": "4c48dc90",
   "metadata": {},
   "source": [
    "### Exercício 18: estaOrdenadaCD\n",
    "- Modifique a função do exercício anterior para receber um parâmetro extra, **ordem**, que poderá ter valores \"C\" ou \"D\" e que vai verificar se a lista está ordenada por ordem crescente se **ordem=\"C\"** ou se está ordenada por ordem decrescente se **ordem=\"D\"**."
   ]
  },
  {
   "cell_type": "code",
   "execution_count": null,
   "id": "f4b83960",
   "metadata": {},
   "outputs": [],
   "source": [
    "# Solução do exercício 18\n",
    "def estaOrdenadaCD(lista, ordem):\n",
    "    \n",
    "    return"
   ]
  },
  {
   "cell_type": "markdown",
   "id": "4193a91b",
   "metadata": {},
   "source": [
    "### TPC4: Aplicação para manipulação de listas de inteiros\n",
    "- Crie uma aplicação em Python que coloca no monitor o seguinte menu:\n",
    "    * (1) Criar Lista \n",
    "    * (2) Ler Lista\n",
    "    * (3) Soma\n",
    "    * (4) Média\n",
    "    * (5) Maior\n",
    "    * (6) Menor\n",
    "    * (7) estaOrdenada por ordem crescente\n",
    "    * (8) estaOrdenada por ordem decrescente\n",
    "    * (9) Procura um elemento\n",
    "    * (0) Sair\n",
    "- O utilizador irá escolher uma das opções introduzindo o número correspondente;\n",
    "- Se a opção não for sair, a aplicação executa a operação pretendida, apresenta o resultado e a seguir apresenta de novo o menu;\n",
    "- Se a opção for sair, a aplicação termina colocando uma mensagem no monitor.\n",
    "\n",
    "* No desenvolvimento da aplicação deverá ter em atenção o seguinte:\n",
    "    - A aplicação terá uma variável interna para guardar uma lista de números;\n",
    "    - Na opção 1, deverá ser criada uma lista de números aleatórios entre 1 e 100 que será guardada na variável interna;\n",
    "    - Na opção 2, deverá ser criada uma lista com números introduzidos pelo utilizador, que será guardada na variável interna;\n",
    "    - Nestas primeiras opções, se a variável interna já tiver uma lista, esta será sobreposta/apagada pela nova lista;\n",
    "    - Na opção 3, será calculada a soma dos elementos na lista no momento;\n",
    "    - Na opção 4, será calculada a média dos elementos na lista no momento;\n",
    "    - Na opção 5, será calculado o maior elemento da lista no momento;\n",
    "    - Na opção 6, será calculado o menor elemento da lista no momento;\n",
    "    - Na opção 7, a aplicação deverá indicar (Sim/Não) se a lista está ordenada por ordem crescente;\n",
    "    - Na opção 8, a aplicação deverá indicar (Sim/Não) se a lista está ordenada por ordem decrescente;\n",
    "    - Na opção 9, a aplicação irá procurar um elemento na lista, se o encontrar deverá devolver a sua posição, devolverá -1 se o elemento não estiver na lista;\n",
    "    - Se o utilizador selecionar a opção 0, a aplicação deverá terminar mostrando a lista que está nesse momento guardada."
   ]
  }
 ],
 "metadata": {
  "kernelspec": {
   "display_name": "Python 3.9.1 64-bit",
   "language": "python",
   "name": "python3"
  },
  "language_info": {
   "codemirror_mode": {
    "name": "ipython",
    "version": 3
   },
   "file_extension": ".py",
   "mimetype": "text/x-python",
   "name": "python",
   "nbconvert_exporter": "python",
   "pygments_lexer": "ipython3",
   "version": "3.10.12"
  },
  "vscode": {
   "interpreter": {
    "hash": "aee8b7b246df8f9039afb4144a1f6fd8d2ca17a180786b69acc140d282b71a49"
   }
  }
 },
 "nbformat": 4,
 "nbformat_minor": 5
}
