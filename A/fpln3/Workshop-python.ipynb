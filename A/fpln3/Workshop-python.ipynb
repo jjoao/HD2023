{
 "cells": [
  {
   "cell_type": "markdown",
   "metadata": {},
   "source": [
    "# Ficha técnica\n",
    "\n",
    "__identificador__: workshop2021;\n",
    "\n",
    "__título__: Overview sob o tema da Análise de Dados;\n",
    "\n",
    "__data início__: 2021-12-15;\n",
    "\n",
    "__autor__: José Carlos Ramalho, D1513;\n",
    "\n",
    "__resumo__: Nesta workshop cobrem-se, sem aprofundar muito, os seguintes tópicos:\n",
    "\n",
    "* Tipos de dados primitivos;\n",
    "* Definição de funções;\n",
    "* Tipos de dados estruturados: listas, tuplos e dicionários;\n",
    "* Ficheiros: abertura, leitura, escrita e fecho;\n",
    "* Leitura e limpeza de datasets: formatos CSV, JSON e XML;\n",
    "* Cálculo de alguns indicadores e de algumas distribuições;\n",
    "* Visualização gráfica de distribuições.\n"
   ]
  },
  {
   "cell_type": "markdown",
   "metadata": {},
   "source": [
    "## Tipos de dados primitivos\n",
    "\n",
    "Inteiros, reais, complexos, booleanos e strings (???)"
   ]
  },
  {
   "cell_type": "code",
   "execution_count": null,
   "metadata": {},
   "outputs": [],
   "source": [
    "# Complexos\n",
    "a = 7+4j\n",
    "b = 3-2j\n",
    "print(a+b)\n",
    "print(a*b)"
   ]
  },
  {
   "cell_type": "code",
   "execution_count": null,
   "metadata": {},
   "outputs": [],
   "source": [
    "# Booleanos\n",
    "a = 2*3 > 4\n",
    "print(a)\n",
    "b = (2*3 > 4) and (not a)\n",
    "print(b)"
   ]
  },
  {
   "cell_type": "code",
   "execution_count": null,
   "metadata": {},
   "outputs": [],
   "source": [
    "# Reais\n",
    "media = (13+18+12)/3\n",
    "print(media)"
   ]
  },
  {
   "cell_type": "code",
   "execution_count": null,
   "metadata": {},
   "outputs": [],
   "source": [
    "# Strings\n",
    "frase = \"A alma humana é vítima tão inevitável da dor que sofre a dor da surpresa dolorosa\"\n",
    "# Acesso a um caráter\n",
    "print(frase[7])\n",
    "# Acesso a uma fatia\n",
    "print(frase[2:6])\n",
    "# A contar do fim: índices negativos\n",
    "print(frase[-3:])\n"
   ]
  },
  {
   "cell_type": "code",
   "execution_count": null,
   "metadata": {},
   "outputs": [],
   "source": [
    "frase = \"A alma humana é vítima tão inevitável da dor que sofre a dor da surpresa dolorosa\"\n",
    "# Comprimento\n",
    "print(\"A frase tem \" + str(len(frase)) + \" carateres.\")\n",
    "print(\"Vamos iterar sobre a string:\")\n",
    "# E se quiser imprimir também a posição do caráter???\n",
    "for c in frase:\n",
    "    print(c)"
   ]
  },
  {
   "cell_type": "code",
   "execution_count": null,
   "metadata": {},
   "outputs": [],
   "source": [
    "# Partir uma string em substrings usando um ou mais caráteres como separador\n",
    "frase = \"A alma humana é vítima tão inevitável da dor que sofre a dor da surpresa dolorosa\"\n",
    "palavras = frase.split(\" \")\n",
    "print(palavras)\n",
    "# O resultado é uma lista, vamos ver à frente..."
   ]
  },
  {
   "cell_type": "markdown",
   "metadata": {},
   "source": [
    "## Definição de funções\n",
    "\n",
    "Sintaxe:\n",
    "\n",
    "```\n",
    "def nome(arg1, arg2, ...):\n",
    "    instruções \n",
    "    return resultado\n",
    "```"
   ]
  },
  {
   "cell_type": "code",
   "execution_count": null,
   "metadata": {},
   "outputs": [],
   "source": [
    "def soma(a,b):\n",
    "    return a+b\n",
    "\n",
    "print(soma(7,12))\n",
    "print(soma(soma(2,3),4))"
   ]
  },
  {
   "cell_type": "markdown",
   "metadata": {},
   "source": [
    "### Pequeno exercício\n",
    "\n",
    "Vamos especificar uma função para calcular o resultado de elevar uma base a um determinado expoente."
   ]
  },
  {
   "cell_type": "code",
   "execution_count": null,
   "metadata": {},
   "outputs": [],
   "source": [
    "def pot(b, e):\n",
    "    res = 1\n",
    "    # ...\n",
    "    return res"
   ]
  },
  {
   "cell_type": "markdown",
   "metadata": {},
   "source": [
    "## Tipos de dados estruturados\n",
    "\n",
    "### Listas\n",
    "\n",
    "Uma lista é uma sequência finita e ordenada de elementos. Um elemento pode ser qualquer coisa."
   ]
  },
  {
   "cell_type": "markdown",
   "metadata": {},
   "source": [
    "#### Construtor:"
   ]
  },
  {
   "cell_type": "code",
   "execution_count": null,
   "metadata": {},
   "outputs": [],
   "source": [
    "# lista vazia\n",
    "l = []\n",
    "# lista homogénea\n",
    "l2 = [1,2,3,4,5]\n",
    "# lista heterogénea\n",
    "l3 = [11, \"onze\", 12, \"doze\"]\n",
    "# listas em compreensão\n",
    "l4 = [x for x in (l+l2+l3)]\n",
    "print(l4)\n"
   ]
  },
  {
   "cell_type": "markdown",
   "metadata": {},
   "source": [
    "#### Exercícios"
   ]
  },
  {
   "cell_type": "code",
   "execution_count": null,
   "metadata": {},
   "outputs": [],
   "source": [
    "# Lista com os inteiros no intervalo [1,100]\n",
    "\n",
    "# Lista com os inteiros divisíveis por 7 no intervalo [1,1000]\n"
   ]
  },
  {
   "cell_type": "code",
   "execution_count": null,
   "metadata": {},
   "outputs": [],
   "source": [
    "frase = \"A alma humana é vítima tão inevitável da dor que sofre a dor da surpresa dolorosa\"\n",
    "lista = [x for x in frase]\n",
    "lista.sort()\n",
    "print(lista)"
   ]
  },
  {
   "cell_type": "markdown",
   "metadata": {},
   "source": [
    "#### Comprimento"
   ]
  },
  {
   "cell_type": "code",
   "execution_count": 17,
   "metadata": {},
   "outputs": [
    {
     "name": "stdout",
     "output_type": "stream",
     "text": [
      "5\n"
     ]
    }
   ],
   "source": [
    "vogais = ['a', 'e', 'i', 'o', 'u']\n",
    "print(len(vogais))"
   ]
  },
  {
   "cell_type": "markdown",
   "metadata": {},
   "source": [
    "#### _in_ e _not in_"
   ]
  },
  {
   "cell_type": "code",
   "execution_count": null,
   "metadata": {},
   "outputs": [],
   "source": [
    "texto = \"Hoje está um dia bonito!\"\n",
    "vogaisPresentes = []\n",
    "for v in vogais:\n",
    "    if v in texto:\n",
    "        vogaisPresentes.append(True)\n",
    "    else:\n",
    "        vogaisPresentes.append(False)\n",
    "print(vogaisPresentes)"
   ]
  },
  {
   "cell_type": "markdown",
   "metadata": {},
   "source": [
    "#### Acrescentar elementos numa lista"
   ]
  },
  {
   "cell_type": "code",
   "execution_count": null,
   "metadata": {},
   "outputs": [],
   "source": [
    "pares100 = []\n",
    "i = 0\n",
    "while i <= 100:\n",
    "    pares100.append(i)\n",
    "    i = i+2\n",
    "print(pares100)\n",
    "\n",
    "# Fazer o mesmo em compreensão"
   ]
  },
  {
   "cell_type": "markdown",
   "metadata": {},
   "source": [
    "#### Apagar o conteúdo duma lista"
   ]
  },
  {
   "cell_type": "code",
   "execution_count": null,
   "metadata": {},
   "outputs": [],
   "source": [
    "pares100.clear()\n",
    "print(pares100)"
   ]
  },
  {
   "cell_type": "markdown",
   "metadata": {},
   "source": [
    "#### Copiar uma lista"
   ]
  },
  {
   "cell_type": "code",
   "execution_count": null,
   "metadata": {},
   "outputs": [],
   "source": [
    "cores = [\"vermelho\", \"verde\", \"azul\"]\n",
    "cores2 = cores.copy() + [\"amarelo\"]\n",
    "print(cores2)\n",
    "print(cores2.index(\"verde\"))"
   ]
  },
  {
   "cell_type": "code",
   "execution_count": null,
   "metadata": {},
   "outputs": [],
   "source": [
    "coresIndex = []\n",
    "for i in range(len(cores2)):\n",
    "    coresIndex.append((i, cores2[i]))\n",
    "print(coresIndex)"
   ]
  },
  {
   "cell_type": "markdown",
   "metadata": {},
   "source": [
    "#### Inserir um elemento numa determinada posição"
   ]
  },
  {
   "cell_type": "code",
   "execution_count": null,
   "metadata": {},
   "outputs": [],
   "source": [
    "cores2.insert(1, \"roxo\")\n",
    "print(cores2)"
   ]
  },
  {
   "cell_type": "markdown",
   "metadata": {},
   "source": [
    "#### Remover a primeira ocorrência de um elemento"
   ]
  },
  {
   "cell_type": "code",
   "execution_count": null,
   "metadata": {},
   "outputs": [],
   "source": [
    "cores2 = cores2 + [\"verde\", \"verde\"]\n",
    "print(cores2)\n",
    "cores2.remove(\"verde\")\n",
    "print(cores2)"
   ]
  },
  {
   "cell_type": "markdown",
   "metadata": {},
   "source": [
    "#### Ordem e ordenação"
   ]
  },
  {
   "cell_type": "code",
   "execution_count": null,
   "metadata": {},
   "outputs": [],
   "source": [
    "lista = [x for x in range(1,21)]\n",
    "print(lista)\n",
    "lista.reverse()\n",
    "print(lista)\n",
    "lista.sort()\n",
    "print(lista)"
   ]
  },
  {
   "cell_type": "markdown",
   "metadata": {},
   "source": [
    "### Exercício: vamos criar uma lista..."
   ]
  },
  {
   "cell_type": "code",
   "execution_count": 27,
   "metadata": {},
   "outputs": [],
   "source": [
    "def criarListaInt():\n",
    "    lista = []\n",
    "    n = int(input(\"Introduza o número de elementos da lista: \"))\n",
    "    i = 1\n",
    "    while len(lista) < n:\n",
    "        elem = int(input(\"Introduza o elemento \" + str(i) + \": \"))\n",
    "        lista.append(elem)\n",
    "        i = i+1\n",
    "    return lista"
   ]
  },
  {
   "cell_type": "code",
   "execution_count": null,
   "metadata": {},
   "outputs": [],
   "source": [
    "l = criarListaInt()\n",
    "print(l)"
   ]
  },
  {
   "cell_type": "markdown",
   "metadata": {},
   "source": [
    "#### Vamos automatizar a criação da lista"
   ]
  },
  {
   "cell_type": "code",
   "execution_count": 29,
   "metadata": {},
   "outputs": [],
   "source": [
    "from random import randrange\n",
    "def criarListaInt2(nelems):\n",
    "    lista = []\n",
    "    i = 1\n",
    "    while len(lista) < nelems:\n",
    "        elem = randrange(0, 101)\n",
    "        lista.append(elem)\n",
    "        i = i+1\n",
    "    return lista"
   ]
  },
  {
   "cell_type": "code",
   "execution_count": 31,
   "metadata": {},
   "outputs": [
    {
     "name": "stdout",
     "output_type": "stream",
     "text": [
      "[100, 68, 94, 72, 86, 1, 29, 22, 60, 94, 26, 19, 77, 37, 65, 30, 19, 3, 99, 37, 69, 17, 60, 3, 64, 28, 21, 20, 30, 72, 72, 93, 91, 70, 52, 45, 67, 25, 57, 63]\n",
      "[1, 3, 3, 17, 19, 19, 20, 21, 22, 25, 26, 28, 29, 30, 30, 37, 37, 45, 52, 57, 60, 60, 63, 64, 65, 67, 68, 69, 70, 72, 72, 72, 77, 86, 91, 93, 94, 94, 99, 100]\n"
     ]
    }
   ],
   "source": [
    "l2 = criarListaInt2(40)\n",
    "print(l2)\n",
    "l2.sort()\n",
    "print(l2)"
   ]
  },
  {
   "cell_type": "markdown",
   "metadata": {},
   "source": [
    "#### Há duplicados, como podemos evitar que sejam gerados?"
   ]
  },
  {
   "cell_type": "code",
   "execution_count": null,
   "metadata": {},
   "outputs": [],
   "source": [
    "# Resolver na sessão"
   ]
  },
  {
   "cell_type": "markdown",
   "metadata": {},
   "source": [
    "#### Exercício: Vamos definir uma função para calcular o maior da lista                                                                                                                                                                                                                                                                                                                                             "
   ]
  },
  {
   "cell_type": "markdown",
   "metadata": {},
   "source": [
    "## Tuplos e companhia"
   ]
  },
  {
   "cell_type": "markdown",
   "metadata": {},
   "source": [
    "#### Construtores: (), tuple()"
   ]
  },
  {
   "cell_type": "code",
   "execution_count": 32,
   "metadata": {},
   "outputs": [],
   "source": [
    "aluno1 = (\"Ana Maria\", \"A87564\", \"ENGMAT\", 1,1,0,0,1,1,0,0)\n",
    "coordenadas = tuple([39, 9])"
   ]
  },
  {
   "cell_type": "markdown",
   "metadata": {},
   "source": [
    "#### Acesso"
   ]
  },
  {
   "cell_type": "code",
   "execution_count": null,
   "metadata": {},
   "outputs": [],
   "source": [
    "curso1 = aluno1[2]\n",
    "print(curso1)\n",
    "print(coordenadas[1])"
   ]
  },
  {
   "cell_type": "markdown",
   "metadata": {},
   "source": [
    "#### Acesso com desmembramento (unfold/unpack)"
   ]
  },
  {
   "cell_type": "code",
   "execution_count": null,
   "metadata": {},
   "outputs": [],
   "source": [
    "nome, id, curso, *tpc = aluno1\n",
    "print(id + \": \" + nome)\n",
    "print(tpc)"
   ]
  },
  {
   "cell_type": "markdown",
   "metadata": {},
   "source": [
    "#### Testar se um valor está no tuplo"
   ]
  },
  {
   "cell_type": "code",
   "execution_count": null,
   "metadata": {},
   "outputs": [],
   "source": [
    "if \"ENGMAT\" in aluno1:\n",
    "    print(\"Temos mais um aluno!\")"
   ]
  },
  {
   "cell_type": "markdown",
   "metadata": {},
   "source": [
    "#### Remover um campo"
   ]
  },
  {
   "cell_type": "code",
   "execution_count": null,
   "metadata": {},
   "outputs": [],
   "source": [
    "a1Lista = list(aluno1)\n",
    "a1Lista.pop(2)\n",
    "aluno1 = tuple(a1Lista)\n",
    "print(aluno1)"
   ]
  },
  {
   "cell_type": "markdown",
   "metadata": {},
   "source": [
    "## Listas em compreensão"
   ]
  },
  {
   "cell_type": "code",
   "execution_count": 1,
   "metadata": {},
   "outputs": [
    {
     "name": "stdout",
     "output_type": "stream",
     "text": [
      "['A', ' ', 'M', 'a', 'r', 'i', 'a', ' ', 't', 'e', 'm', ' ', 'u', 'm', ' ', 'n', 'a', 'm', 'o', 'r', 'a', 'd', 'o']\n"
     ]
    }
   ],
   "source": [
    "letras = [l for l in \"A Maria tem um namorado\"]\n",
    "print(letras)"
   ]
  },
  {
   "cell_type": "markdown",
   "metadata": {},
   "source": [
    "#### Sintaxe: `[expressão for elem in lista]`"
   ]
  },
  {
   "cell_type": "code",
   "execution_count": null,
   "metadata": {},
   "outputs": [],
   "source": [
    "quadrados = [n*n for n in range(20)]\n",
    "print(quadrados)"
   ]
  },
  {
   "cell_type": "code",
   "execution_count": null,
   "metadata": {},
   "outputs": [],
   "source": [
    "parImpar = [(\"Par\", y) if y%2 == 0 else (\"Ímpar\", y) for y in range(1,101)]\n",
    "print(parImpar)"
   ]
  },
  {
   "cell_type": "markdown",
   "metadata": {},
   "source": [
    "#### Exercício: Especifica uma lista em compreensão com os inteiros entre 0 e 1000 divisíveis por 2 e por 7"
   ]
  },
  {
   "cell_type": "markdown",
   "metadata": {},
   "source": [
    "#### Exercício: Resultado após uma jornada de futebol"
   ]
  },
  {
   "cell_type": "code",
   "execution_count": null,
   "metadata": {},
   "outputs": [],
   "source": [
    "jornada21 = ('Jornada XXI', [(('Benfica',1),('Moreirense',3)), \n",
    "                             (('Sporting',2),('Braga',3)), \n",
    "                             (('Porto',3),('Rio Ave', 3))])\n",
    "print(jornada21)"
   ]
  },
  {
   "cell_type": "code",
   "execution_count": null,
   "metadata": {},
   "outputs": [],
   "source": [
    "# Devolve uma lista de pares: [(Equipe, Pontos)]\n",
    "def resultado(jornada):\n",
    "    resultado = []\n",
    "    for jogo in jornada21[1]:\n",
    "        visitado, visitante = jogo\n",
    "        if visitado[1] > visitante[1]:\n",
    "            resultado.append((visitado[0],3))\n",
    "            resultado.append((visitante[0],0))\n",
    "        elif visitado[1] < visitante[1]:\n",
    "            resultado.append((visitado[0],0))\n",
    "            resultado.append((visitante[0],3))\n",
    "        else:\n",
    "            resultado.append((visitado[0],1))\n",
    "            resultado.append((visitante[0],1))\n",
    "    return resultado\n",
    "\n",
    "def verResultado(rlista):\n",
    "    for tuplo in rlista:\n",
    "        equipe, pontos = tuplo\n",
    "        print(equipe, \" - \", pontos)"
   ]
  },
  {
   "cell_type": "markdown",
   "metadata": {},
   "source": [
    "## Dicionários\n",
    "\n",
    "#### Construtores: {}, dict()"
   ]
  },
  {
   "cell_type": "code",
   "execution_count": null,
   "metadata": {},
   "outputs": [],
   "source": [
    "jogo1 = {'visitado': {'equipe': 'Benfica', 'golos': 1},\n",
    "        'visitante': {'equipe': 'Moreirense', 'golos': 3}}\n",
    "print(jogo1)\n",
    "print(jogo1['visitado']['golos'])\n",
    "print(jogo1.get('visitado').get('equipe'))"
   ]
  },
  {
   "cell_type": "markdown",
   "metadata": {},
   "source": [
    "#### Acesso"
   ]
  },
  {
   "cell_type": "code",
   "execution_count": null,
   "metadata": {},
   "outputs": [],
   "source": [
    "compras = {'maçã': 5, 'laranja':6, 'banana': 7}\n",
    "print(compras['laranja'])\n",
    "print(compras.get('banana'))"
   ]
  },
  {
   "cell_type": "markdown",
   "metadata": {},
   "source": [
    "#### Extrair chaves"
   ]
  },
  {
   "cell_type": "code",
   "execution_count": null,
   "metadata": {},
   "outputs": [],
   "source": [
    "distrib = {\"LCC\": 23, \"ENGBIOM\": 35, \"LEI\": 32, \"ENGFIS\": 17}\n",
    "chaves = distrib.keys()\n",
    "print(type(chaves))\n",
    "print(chaves)"
   ]
  },
  {
   "cell_type": "markdown",
   "metadata": {},
   "source": [
    "#### Extrair valores"
   ]
  },
  {
   "cell_type": "code",
   "execution_count": null,
   "metadata": {},
   "outputs": [],
   "source": [
    "distrib = {\"LCC\": 23, \"ENGBIOM\": 35, \"LEI\": 32, \"ENGFIS\": 17}\n",
    "valores = distrib.values()\n",
    "print(type(valores))\n",
    "print(valores)"
   ]
  },
  {
   "cell_type": "markdown",
   "metadata": {},
   "source": [
    "#### Concatenar dicionários"
   ]
  },
  {
   "cell_type": "code",
   "execution_count": null,
   "metadata": {},
   "outputs": [],
   "source": [
    "legumes = {\"cenouras\": 6, \"batatas\":20, \"cebolas\": 12}\n",
    "frutas = {\"tangerina\": 30, \"pêras\":8, \"bananas\": 6, \"romãs\": 2}\n",
    "charcutaria = {\"fiambre\": 10, \"queijo\": 16, \"chouriço\": 1}\n",
    "listaCompras = {}\n",
    "for par in (legumes, frutas, charcutaria): listaCompras.update(par)\n",
    "print(listaCompras)"
   ]
  },
  {
   "cell_type": "code",
   "execution_count": null,
   "metadata": {},
   "outputs": [],
   "source": [
    "legumes = {\"cenouras\": 6, \"batatas\":20, \"cebolas\": 12}\n",
    "frutas = {\"tangerina\": 30, \"pêras\":8, \"bananas\": 6, \"romãs\": 2}\n",
    "charcutaria = {\"fiambre\": 10, \"queijo\": 16, \"chouriço\": 1}\n",
    "listaCompras = legumes.copy()\n",
    "listaCompras.update(frutas)\n",
    "listaCompras.update(charcutaria)\n",
    "print(listaCompras)"
   ]
  },
  {
   "cell_type": "code",
   "execution_count": null,
   "metadata": {},
   "outputs": [],
   "source": [
    "legumes = {\"cenouras\": 6, \"batatas\":20, \"cebolas\": 12}\n",
    "frutas = {\"tangerina\": 30, \"pêras\":8, \"bananas\": 6, \"romãs\": 2}\n",
    "charcutaria = {\"fiambre\": 10, \"queijo\": 16, \"chouriço\": 1}\n",
    "listaCompras = {}\n",
    "for chave in legumes.keys():\n",
    "    listaCompras[chave] = legumes[chave]\n",
    "for chave in frutas.keys():\n",
    "    listaCompras[chave] = frutas[chave]\n",
    "for chave in charcutaria.keys():\n",
    "    listaCompras[chave] = charcutaria[chave]\n",
    "print(listaCompras)"
   ]
  },
  {
   "cell_type": "markdown",
   "metadata": {},
   "source": [
    "#### Ordenar dicionários: por valor"
   ]
  },
  {
   "cell_type": "code",
   "execution_count": null,
   "metadata": {},
   "outputs": [],
   "source": [
    "def ordenaValores(v):\n",
    "    return v[1]\n",
    "\n",
    "# print(listaCompras.items())\n",
    "# valores = sorted(listaCompras.items(), key = lambda x: x[1])\n",
    "valores = list(listaCompras.items())\n",
    "valores.sort(key = ordenaValores)\n",
    "novoDict = dict(valores)\n",
    "print(novoDict)"
   ]
  },
  {
   "cell_type": "markdown",
   "metadata": {},
   "source": [
    "#### Ordenar dicionários: por chave"
   ]
  },
  {
   "cell_type": "code",
   "execution_count": null,
   "metadata": {},
   "outputs": [],
   "source": [
    "def ordenaChaves(par):\n",
    "    return par[0]\n",
    "\n",
    "chaves = sorted(listaCompras.items(), key = ordenaChaves)\n",
    "# Fazer com o sort\n",
    "print(chaves)"
   ]
  },
  {
   "cell_type": "markdown",
   "metadata": {},
   "source": [
    "#### Verificar se uma chave está no dicionário"
   ]
  },
  {
   "cell_type": "code",
   "execution_count": null,
   "metadata": {},
   "outputs": [],
   "source": [
    "def pertenceChave(c, d):\n",
    "    return True if c in d else False "
   ]
  },
  {
   "cell_type": "code",
   "execution_count": null,
   "metadata": {},
   "outputs": [],
   "source": [
    "print(pertenceChave(\"bananas\", listaCompras))\n",
    "print(pertenceChave(\"beterrabas\", listaCompras))"
   ]
  },
  {
   "cell_type": "markdown",
   "metadata": {},
   "source": [
    "#### Exercício:\n",
    "\n",
    "Escreve um programa em Python que leia um número inteiro positivo e crie um dicionário com chaves de 1 até esse número, em que o valor associado a cada chave é o quadrado dessa chave."
   ]
  },
  {
   "cell_type": "code",
   "execution_count": null,
   "metadata": {},
   "outputs": [],
   "source": [
    "# Desenvolver na workshop"
   ]
  },
  {
   "cell_type": "markdown",
   "metadata": {},
   "source": [
    "#### O problema da inversão estrutural"
   ]
  },
  {
   "cell_type": "code",
   "execution_count": null,
   "metadata": {},
   "outputs": [],
   "source": [
    "escola = [\n",
    "    {\n",
    "        'nome': \"Ana\",\n",
    "        'instrumentos': ['trompete','clarinete', 'flauta']\n",
    "    },\n",
    "    {\n",
    "        'nome': \"Carlos\",\n",
    "        'instrumentos': ['saxofone', 'flauta', 'piano']\n",
    "    },\n",
    "    {\n",
    "        'nome': \"Paulina\",\n",
    "        'instrumentos': ['saxofone', 'violino', 'piano']\n",
    "    }\n",
    "]\n",
    "\n",
    "def calcListaInst(esc):\n",
    "    instrumentos = []\n",
    "    for a in esc:\n",
    "        for i in a['instrumentos']:\n",
    "            if i not in instrumentos:\n",
    "                instrumentos.append(i)\n",
    "    instrumentos.sort()\n",
    "    return instrumentos\n",
    "\n",
    "def calcListaMusicos(esc, i):\n",
    "    musicos = []\n",
    "    for a in esc:\n",
    "        if i in a['instrumentos']:\n",
    "            musicos.append(a['nome'])\n",
    "    return musicos\n",
    "\n",
    "def indInstrumentos(esc):\n",
    "    indiceInstrumentos = []\n",
    "    listaInst = calcListaInst(esc)\n",
    "    for i in listaInst:\n",
    "        indiceInstrumentos.append({\n",
    "            'instrumento': i, \n",
    "            'musicos': calcListaMusicos(esc, i)\n",
    "        })\n",
    "    return indiceInstrumentos"
   ]
  },
  {
   "cell_type": "code",
   "execution_count": null,
   "metadata": {},
   "outputs": [],
   "source": [
    "print(indInstrumentos(escola))"
   ]
  },
  {
   "cell_type": "markdown",
   "metadata": {},
   "source": [
    "## Persistência da informação / Armazenamento em memória secundária: ficheiros"
   ]
  },
  {
   "cell_type": "markdown",
   "metadata": {},
   "source": [
    "### Abertura: open(nome, modo)"
   ]
  },
  {
   "cell_type": "markdown",
   "metadata": {},
   "source": [
    "Modos de abertura de um ficheiro:\n",
    "* \"r\" - Read - Valor por omissão. Abre o ficheiro para leitura, devolve error se o ficheiro não existir;\n",
    "* \"a\" - Append - Abre o ficheiro para acrescentar, cria o ficheiro se este não existir;\n",
    "* \"w\" - Write - Abre o ficheiro para escrever, cria o ficheiro se este não existir, apaga o conteúdo se este existir;\n",
    "* \"x\" - Create - Cria o ficheiro, devolve error se o ficheiro já existir.\n",
    "\n",
    "Parâmetro adicional ao modo:\n",
    "* \"t\" - Text - Valor por omissão. Ficheiro textual;\n",
    "* \"b\" - Binary - Ficheiro binário, por exemplo, imagens."
   ]
  },
  {
   "cell_type": "code",
   "execution_count": null,
   "metadata": {},
   "outputs": [],
   "source": [
    "f = open(\"bdArtigos.json\", \"rt\")\n",
    "f2 = open(\"bdArtigos.json\", \"r\")\n",
    "f3 = open(\"bdArtigos.json\")"
   ]
  },
  {
   "cell_type": "markdown",
   "metadata": {},
   "source": [
    "### Leitura do conteúdo"
   ]
  },
  {
   "cell_type": "code",
   "execution_count": null,
   "metadata": {},
   "outputs": [],
   "source": [
    "f4 = open(\"demo.txt\")\n",
    "print(f4.read())"
   ]
  },
  {
   "cell_type": "markdown",
   "metadata": {},
   "source": [
    "#### Uma linha de cada vez, iterando pelas linhas..."
   ]
  },
  {
   "cell_type": "code",
   "execution_count": null,
   "metadata": {},
   "outputs": [],
   "source": [
    "f4 = open(\"demo.txt\")\n",
    "print(f4.readline())\n",
    "print(f4.readline())"
   ]
  },
  {
   "cell_type": "code",
   "execution_count": null,
   "metadata": {},
   "outputs": [],
   "source": [
    "f4 = open(\"demo.txt\")\n",
    "i=1\n",
    "for linha in f4:\n",
    "    print(str(i) + \" :: \" + linha)\n",
    "    i = i+1"
   ]
  },
  {
   "cell_type": "markdown",
   "metadata": {},
   "source": [
    "### Fechar um ficheiro: devemos fazê-lo no fim..."
   ]
  },
  {
   "cell_type": "code",
   "execution_count": null,
   "metadata": {},
   "outputs": [],
   "source": [
    "f4 = open(\"demo.txt\")\n",
    "i=1\n",
    "for linha in f4:\n",
    "    print(str(i) + \" :: \" + linha)\n",
    "    i = i+1\n",
    "f4.close()"
   ]
  },
  {
   "cell_type": "markdown",
   "metadata": {},
   "source": [
    "### Escrever num ficheiro"
   ]
  },
  {
   "cell_type": "code",
   "execution_count": null,
   "metadata": {},
   "outputs": [],
   "source": [
    "f5 = open(\"demo.txt\", \"a\")\n",
    "f5.write(\"Agora o ficheiro tem mais conteúdo!\")\n",
    "f5.close()\n",
    "\n",
    "f5 = open(\"demo.txt\", \"r\")\n",
    "print(f5.read())"
   ]
  },
  {
   "cell_type": "markdown",
   "metadata": {},
   "source": [
    "### Exercício: uma BD bibliográfica - Como guardar em ficheiro?"
   ]
  },
  {
   "cell_type": "code",
   "execution_count": null,
   "metadata": {},
   "outputs": [],
   "source": [
    "arts = [{'chaveCit': 'RHA2008', 'titulo': 'Álgebra Documental', \n",
    "        'autores': [('jcr', 'José Carlos Ramalho'), ('prh', 'Pedro Rangel Henriques'), ('jj', 'José João Almeida')], \n",
    "        'ano': 2008, 'local': 'Twente - Holanda'}, \n",
    "    {'chaveCit': 'RHA1998', 'titulo': 'Utilização do email pedagogicamente', \n",
    "        'autores': [('jcr', 'José Carlos Ramalho'), ('prh', 'Pedro Rangel Henriques'), ('jj', \n",
    "        'José João Almeida')], 'ano': 1999, 'local': 'Universidade do Minho'}]"
   ]
  },
  {
   "cell_type": "markdown",
   "metadata": {},
   "source": [
    "### Hipótese 1: no \"meu\" ficheiro de texto\n",
    "__Que forma irão ter os registos?__"
   ]
  },
  {
   "cell_type": "markdown",
   "metadata": {},
   "source": [
    "`chaveCit::titulo::autor1#autor2#...#autorn::ano::local`\n",
    "\n",
    "Aplicado ao nosso exemplo:\n",
    "\n",
    "`RHA2008::Álgebra Documental::jcr,José Carlos Ramalho#prh,Pedro Rangel Henriques#jj,José João Almeida::2008::Twente - Holanda\n",
    "\n",
    "RHA1998::Utilização do email pedagogicamente::jcr,José Carlos Ramalho#prh,Pedro Rangel Henriques#jj,José João Almeida::1999::Universidade do Minho`"
   ]
  },
  {
   "cell_type": "code",
   "execution_count": null,
   "metadata": {},
   "outputs": [],
   "source": [
    "# Guardar a BD no ficheiro\n",
    "def guardarBD(bd, fnome):\n",
    "    f = open(fnome, 'w', encoding='utf-8')\n",
    "    sep = \"::\"\n",
    "    myReg = \"\"\n",
    "    for art in arts:\n",
    "        myReg = art['chaveCit'] + sep + art['titulo'] + sep\n",
    "        i = 1\n",
    "        for (id, nome) in art['autores']:\n",
    "            myReg = myReg + id + \",\" + nome\n",
    "            if i < len(art['autores']):\n",
    "                myReg = myReg + \"#\"\n",
    "            else:\n",
    "                myReg = myReg + \"::\"\n",
    "            i = i+1\n",
    "        myReg = myReg + str(art['ano']) + sep + art['local']\n",
    "        myReg = myReg + \"\\n\"\n",
    "        f.write(myReg)\n",
    "\n",
    "guardarBD(arts, \"bdArtigos.txt\")\n",
    "print(\"Foram guardados \" + str(len(arts)) + \" registos.\")"
   ]
  },
  {
   "cell_type": "code",
   "execution_count": null,
   "metadata": {},
   "outputs": [],
   "source": [
    "# Carregar a BD dum ficheiro\n",
    "def extraiAutores(linha):\n",
    "    res = []\n",
    "    autores = linha.split(\"#\")\n",
    "    for a in autores:\n",
    "        acampos = a.split(\",\")\n",
    "        res.append((acampos[0],acampos[1]))\n",
    "    return res\n",
    "    \n",
    "def carregarBD(fnome):\n",
    "    bd = []\n",
    "    f = open(fnome)\n",
    "    for linha in f:\n",
    "        myReg = {}\n",
    "        campos = linha.split(\"::\")\n",
    "        myReg['chaveCit'] = campos[0]\n",
    "        myReg['titulo'] = campos[1]\n",
    "        myReg['autores'] = extraiAutores(campos[2])\n",
    "        myReg['ano'] = campos[3]\n",
    "        myReg['local'] = campos[4]\n",
    "        bd.append(myReg)\n",
    "    return bd\n",
    "\n",
    "teste = carregarBD(\"bdArtigos.txt\")\n",
    "print(teste)"
   ]
  },
  {
   "cell_type": "code",
   "execution_count": null,
   "metadata": {},
   "outputs": [],
   "source": [
    "# Mais umas reutilizações do código já escrito\n",
    "# Inserir mais alguns registos e guardar\n",
    "# ..."
   ]
  },
  {
   "cell_type": "markdown",
   "metadata": {},
   "source": [
    "### Hipótese 2: em JSON\n",
    "\n",
    "(fazer uma visita guiada a [json.org](https://www.json.org/json-en.html))"
   ]
  },
  {
   "cell_type": "code",
   "execution_count": null,
   "metadata": {},
   "outputs": [],
   "source": [
    "# Guardar a BD em JSON\n",
    "import json\n",
    "\n",
    "def guardarBD(bd, fnome):\n",
    "    f = open(fnome, 'w', encoding='utf-8') \n",
    "    json.dump(bd, f, ensure_ascii=False, indent=4)\n",
    "\n",
    "guardarBD(arts, \"bdArtigos.json\")"
   ]
  },
  {
   "cell_type": "code",
   "execution_count": null,
   "metadata": {},
   "outputs": [],
   "source": [
    "# Carregar a BD dum ficheiro em JSON\n",
    "def carregarBD(fnome):\n",
    "    f = open(fnome)\n",
    "    bd = json.load(f)\n",
    "    return bd\n",
    "\n",
    "teste = []\n",
    "teste = carregarBD(\"bdArtigos.json\")\n",
    "print(teste)"
   ]
  },
  {
   "cell_type": "markdown",
   "metadata": {},
   "source": [
    "O campo autores não veio no formato pretendido. *Porquê?...*\n",
    "\n",
    "Altera a função de carregamento de modo a colocar tudo no formato esperado."
   ]
  },
  {
   "cell_type": "markdown",
   "metadata": {},
   "source": [
    "## Plot: desenho de gráficos e imagens\n",
    "\n",
    "Para a representação gráfica iremos usar o módulo plot.\n",
    "\n",
    "### Instalação\n",
    "\n",
    "`pip install matplotlib`"
   ]
  },
  {
   "cell_type": "markdown",
   "metadata": {},
   "source": [
    "### Plot1: uma espécie de \"Hello world!\""
   ]
  },
  {
   "cell_type": "code",
   "execution_count": null,
   "metadata": {},
   "outputs": [],
   "source": [
    "import matplotlib.pyplot as plt\n",
    " \n",
    "# Valores para o eixo do X\n",
    "x = [1,2,3]\n",
    "# Valores para o eixo do Y\n",
    "y = [2,4,1]\n",
    " \n",
    "# Marcar os pontos\n",
    "plt.plot(x, y)\n",
    " \n",
    "plt.xlabel('Abcissas')\n",
    "plt.ylabel('Ordenadas')\n",
    "plt.title('O meu primeiro gráfico!')\n",
    " \n",
    "# Desenhar o gráfico\n",
    "plt.show()"
   ]
  },
  {
   "cell_type": "markdown",
   "metadata": {},
   "source": [
    "### Plot2: duas funções no mesmo gráfico"
   ]
  },
  {
   "cell_type": "code",
   "execution_count": null,
   "metadata": {},
   "outputs": [],
   "source": [
    "import matplotlib.pyplot as plt\n",
    "# função 1\n",
    "x1 = [1,2,3]\n",
    "y1 = [2,4,1]\n",
    "plt.plot(x1, y1, label = \"linha 1\")\n",
    " \n",
    "# função 2\n",
    "x2 = [1,2,3]\n",
    "y2 = [4,1,3]\n",
    "plt.plot(x2, y2, label = \"linha 2\")\n",
    " \n",
    "plt.xlabel('Abcissas')\n",
    "plt.ylabel('Ordenadas')\n",
    "plt.title('Gráfico com duas funções')\n",
    "plt.legend()\n",
    " \n",
    "plt.show()"
   ]
  },
  {
   "cell_type": "markdown",
   "metadata": {},
   "source": [
    "### Plot3: configurações"
   ]
  },
  {
   "cell_type": "code",
   "execution_count": null,
   "metadata": {},
   "outputs": [],
   "source": [
    "import matplotlib.pyplot as plt\n",
    " \n",
    "x = [1,2,3,4,5,6]\n",
    "y = [2,4,1,5,2,6]\n",
    " \n",
    "plt.plot(x, y, color='green', linestyle='dashed', linewidth = 3,\n",
    "         marker='o', markerfacecolor='blue', markersize=12)\n",
    " \n",
    "# Limites dos eixos\n",
    "plt.ylim(1,8)\n",
    "plt.xlim(1,8)\n",
    " \n",
    "plt.xlabel('Abcissas')\n",
    "plt.ylabel('Ordenadas')\n",
    "plt.title('Um gráfico com estilo!')\n",
    " \n",
    "plt.show()"
   ]
  },
  {
   "cell_type": "markdown",
   "metadata": {},
   "source": [
    "### Exercício: desenha a função `f = x^2 - 7`"
   ]
  },
  {
   "cell_type": "code",
   "execution_count": null,
   "metadata": {},
   "outputs": [],
   "source": [
    "# ..."
   ]
  },
  {
   "cell_type": "markdown",
   "metadata": {},
   "source": [
    "## Gráficos de barras"
   ]
  },
  {
   "cell_type": "code",
   "execution_count": null,
   "metadata": {},
   "outputs": [],
   "source": [
    "import matplotlib.pyplot as plt\n",
    " \n",
    "# coordenada-x do lado esquerdo das barras\n",
    "left = [1, 2, 3, 4, 5]\n",
    " \n",
    "# altura das barras\n",
    "height = [6, 4, 8, 12, 5]\n",
    " \n",
    "# labels das barras\n",
    "tick_label = ['cebolas', 'maçãs', 'pêras', 'batatas', 'cenouras']\n",
    " \n",
    "# plotting a bar chart\n",
    "plt.bar(left, height, tick_label = tick_label,\n",
    "        width = 0.8, color = ['red', 'green'])\n",
    " \n",
    "plt.xlabel('Frutas e legumes')\n",
    "plt.ylabel('Quantidade')\n",
    "plt.title('O meu stock de verdes')\n",
    " \n",
    "plt.show()"
   ]
  },
  {
   "cell_type": "markdown",
   "metadata": {},
   "source": [
    "#### Exercício: faz o gráfico de barras para a lista de compras"
   ]
  },
  {
   "cell_type": "code",
   "execution_count": null,
   "metadata": {},
   "outputs": [],
   "source": [
    "legumes = {\"cenouras\": 6, \"batatas\":20, \"cebolas\": 12}\n",
    "frutas = {\"tangerina\": 30, \"pêras\":8, \"bananas\": 6, \"romãs\": 2}\n",
    "listaCompras = legumes.copy()\n",
    "listaCompras.update(frutas)\n",
    "print(listaCompras)"
   ]
  },
  {
   "cell_type": "markdown",
   "metadata": {},
   "source": [
    "## Distribuições: uma introdução...\n",
    "\n",
    "Neste problema, vamos calcular indicadores estatísticos sobre o dataset dos Exames Médicos Desportivos:\n",
    "* Distribuição por sexo;\n",
    "* Distribuição por modalidade;\n",
    "* Distribuição por escalão etário: menos de 21, entre 21 e 35, e mais de 35."
   ]
  },
  {
   "cell_type": "markdown",
   "metadata": {},
   "source": []
  }
 ],
 "metadata": {
  "interpreter": {
   "hash": "aee8b7b246df8f9039afb4144a1f6fd8d2ca17a180786b69acc140d282b71a49"
  },
  "kernelspec": {
   "display_name": "Python 3 (ipykernel)",
   "language": "python",
   "name": "python3"
  },
  "language_info": {
   "codemirror_mode": {
    "name": "ipython",
    "version": 3
   },
   "file_extension": ".py",
   "mimetype": "text/x-python",
   "name": "python",
   "nbconvert_exporter": "python",
   "pygments_lexer": "ipython3",
   "version": "3.10.6"
  }
 },
 "nbformat": 4,
 "nbformat_minor": 2
}
